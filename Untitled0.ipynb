{
  "nbformat": 4,
  "nbformat_minor": 0,
  "metadata": {
    "colab": {
      "name": "Untitled0.ipynb",
      "provenance": [],
      "collapsed_sections": [],
      "authorship_tag": "ABX9TyPobvVnDMU6EwpNyECBANpV",
      "include_colab_link": true
    },
    "kernelspec": {
      "name": "python3",
      "display_name": "Python 3"
    }
  },
  "cells": [
    {
      "cell_type": "markdown",
      "metadata": {
        "id": "view-in-github",
        "colab_type": "text"
      },
      "source": [
        "<a href=\"https://colab.research.google.com/github/san9woni/AI_preschool/blob/master/Untitled0.ipynb\" target=\"_parent\"><img src=\"https://colab.research.google.com/assets/colab-badge.svg\" alt=\"Open In Colab\"/></a>"
      ]
    },
    {
      "cell_type": "code",
      "metadata": {
        "id": "oosZqB_Rzoyo",
        "colab_type": "code",
        "colab": {}
      },
      "source": [
        ""
      ],
      "execution_count": 0,
      "outputs": []
    },
    {
      "cell_type": "markdown",
      "metadata": {
        "id": "PWE9D-Q_zqwX",
        "colab_type": "text"
      },
      "source": [
        "# 인공지능 사관학교 프리코스_W1"
      ]
    },
    {
      "cell_type": "markdown",
      "metadata": {
        "id": "1hwQb4Vjzsyg",
        "colab_type": "text"
      },
      "source": [
        "##1. 언어\n",
        "[**Meena**](http://www.futuretimes.co.kr/news/articleView.html?idxno=13617) **26억 개의 매개 변수로 종단간 훈련된 신경 대화식모델**\n",
        "\n",
        "구글에서 구축한 대화 에이전트로, 현장에서 일하면서 조직이 대화형 솔루션을 구축할 수 있도록 도와주는 기술이다.* \"감수성 및 특이성 평균\" (SSA)라고하는 새로운 지표를 도입했다\n",
        "\n",
        "  * 인간이 적절한 대응으로 합리적으로 평가할 것인지와 대응이 구체적인지를 측정한다\n",
        "\n",
        "##2. 음성\n",
        "[지능형 컨택센터](http://www.engjournal.co.kr/news/articleView.html?idxno=683)\n",
        "\n",
        "AI가 결합된 음성인식 기술이 단순히 음성을 알아듣고 텍스트로 변환해 주는 단계를 넘어,**화자가 사용하는 단어와 목소리 톤 등을 분석해 감정까지 잡아내는 것**\n",
        "\n",
        "지능형 컨택센터가 가능해지면 고객상담센터에 전화하는 고객은 ARS 안내를 기다릴 필요 없이 AI 음성봇을 통해 궁금한 사항을 문의하고 답변을 받을 수 있다.\n",
        "\n",
        "또한, 일부분을 자동화하는 수준이 아니라 AI가 고객을 대응하는 수준도 가능해질 전망이다. 이를 통해 고객 상담 내용을 분석하고 데이터 축적을 병행해 고객이 요청하는 전화 상담과 고객 안내 업무 전반에 해당 기술을 적용할 수 있게 된다.\n",
        "\n",
        "[설명출처](http://www.engjournal.co.kr)\n",
        "\n",
        "##3. 이미지\n",
        "[**AI기반 픽셀 광고**](http://it.chosun.com/site/data/html_dir/2019/12/06/2019120602662.html)\n",
        "사람 이미지가 첨부된 뉴스 기사에는 입고 있는 의상과 유사한 의류를 추천한다. 광고 크기에 따라 추천상품은 한개에서 최대 6개가 뜬다. 뉴스 사이트에서 바로 쇼핑을 하게 된 셈이다.\n",
        "김정태 오드컨셉 대표는 \"매일 1000만개 이상의 패션 상품을 머신러닝 기반으로 분석해 완성도를 높인 이미지 기반 AI 기법\"이라며 \"패션업체는 정확한 타깃 마케팅을 할 수 있고 소비자는 쇼핑 시간을 줄일 수 있는 획기적 기술\"이라고 소개했다.\n",
        "\n",
        "\n",
        "##4. 자율주행\n",
        "[엔비디아 자율주행 교육](http://www.aitimes.kr/news/articleView.html?idxno=15770)\n",
        "컴퓨터 비전과 머신러닝 연구원 겸 포드 자동차(Ford Motor Company) 연구 엔지니어 로한 바신(Rohan Bhasin)은 4월 2일 진행되는 세션에서 *생성적 적대 신경망(generative adversarial network)를 활용해 자율주행차 훈련과 검증을 위한 통합 데이터를 만드는 방법에 대해 논의한다.\n",
        "\n",
        "    * 주로 인간의 개입에 의한 인공지능이 대부분을 차지하고 있었지만 인간의 개입 및 학습 데이터가 없어도 스스로 학습하는 신경망, 서로 대립하는 두 시스템이 서로 경쟁하는 방식으로 학습을 진행하는 비지도 학습 방식의 신경망을 '적대적 생성신경망 또는 생성적 적대신경망(Generative Adversarial Network. 이하, GAN)'이라 한다.\n",
        "    * 생성적 적대신경망(GAN)은 두개의 모델이 있다. 하나는 생성기/생성자(G, Generator) 이며, 또 하나는 분류기/판별자(D, Discriminator)로 두 모델은 서로 경쟁하면서 서로에게 영향을 미치면서 고도화된다.\n",
        "    * 생성기는 노이즈로부터 어떠한 결과물을 만들어내는데, 이 결과물은 분류기에 의해서 평가되며, 분류기는 생성기로부터 온 결과물과 실제 데이터(Real Data)를 구분해내는 역할을 한다. 예를 들어, 이미지를 생성하는 AI와 그 이미지가 진짜인지를 분별 AI가 경쟁하면서 가짜 이미지를 진짜 이미지와 최대한 가깝게 이미지를 생성하고 생산한다.\n",
        "    * 다시 말해, 생성기는 분류기를 속일 정도로 잘 만들어야 하며, 분류기는 생성기가 생산한 가짜 데이터(Fake Data)를 진짜데이터와 잘 식별해야 한다.\n",
        "\n",
        "[생성적 적대 신경망 설명](http://www.aitimes.kr)\n",
        "\n",
        "##(5. 음악)\n",
        "[**Aiva**](https://www.youtube.com/watch?v=gzGkC_o9hXI) \n",
        "**영화, 게임, 광고 등 다양한 종류의 음악을 작곡하는 ai**\n",
        "\n",
        " 엔비디아(NVIDIA)의 GTC 2017에서 키노트 오프닝에 등장한 음악을 작곡하는 등 유명 기술 기업과 협력하면서 그 이름을 알리기 시작했다. 물론 에이바가 작곡을 담당해도 오케스트레이션이나 배열, 제작에는 인간 전문가가 개입한다. \n",
        " 에이바의 기술은 *강화학습(reinforcement learning) 기법을 활용하는 딥러닝 알고리즘에 기초한다.강화학습에서 현재 상태에서 특정 행동을 취했을 때 받을 수 있는 보상의 합을 구하는 함수인 Q-함수를 구하는 데 딥러닝을 활용한다. 이를 딥강화학습(reinforcement learning)이라고 한다. DQN(deep Q networks)와 DDQN이 대표적인 구조로 잘 알려져 있다.\n",
        "\n",
        "  * 딥러닝을 통해 인공지능은 멜로디의 패턴이나 사람의 얼굴에 있는 특징과 같은 고수준의 추상화를 이해하고 이를 모델링할 수 있다. 한편 강화학습은 누적 보상을 최대화해 소프트웨어 에이전트(AI)가 특정 목표에 도달하기 위해 취해야 할 조치를 결정하도록 가르친다. 감독학습과 달리 강화학습에서는 라벨링된 입력값과 결과값 데이터 쌍을 필요로 하지 않는다. 이로써 인공지능이 자신만의 방식을 찾아 명시적인 지시를 받지 않고도 성능을 개선할 수 있다. 음악과 같은 창의적인 예술에서 발견되는 다양성과 변형을 보다 쉽게 포착할 수 있는 이유다.\n",
        "[AIVA 설명 출처](https://www.kakaobrain.com/blog/28)\n"
      ]
    },
    {
      "cell_type": "code",
      "metadata": {
        "id": "FotHhs1wIRPm",
        "colab_type": "code",
        "colab": {}
      },
      "source": [
        ")\n"
      ],
      "execution_count": 0,
      "outputs": []
    }
  ]
}